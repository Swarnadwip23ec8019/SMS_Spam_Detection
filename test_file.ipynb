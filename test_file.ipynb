{
 "cells": [
  {
   "cell_type": "code",
   "execution_count": 1,
   "id": "b1e0e5da",
   "metadata": {},
   "outputs": [],
   "source": [
    "import pandas as pd\n",
    "import os"
   ]
  },
  {
   "cell_type": "code",
   "execution_count": 8,
   "id": "6fe2d4a9",
   "metadata": {},
   "outputs": [],
   "source": [
    "# 1. Load the CSV\n",
    "csv_file = \"test.csv\"  # replace with your CSV file path\n",
    "df = pd.read_csv(csv_file)"
   ]
  },
  {
   "cell_type": "code",
   "execution_count": 9,
   "id": "24cc2a35",
   "metadata": {},
   "outputs": [],
   "source": [
    "# 2. Create a parent folder\n",
    "parent_folder = \"test_file\"\n",
    "os.makedirs(parent_folder, exist_ok=True)"
   ]
  },
  {
   "cell_type": "code",
   "execution_count": 10,
   "id": "0a233962",
   "metadata": {},
   "outputs": [],
   "source": [
    "# 3. Create subfolders for categories inside the parent folder\n",
    "for category in df['Category'].unique():\n",
    "    os.makedirs(os.path.join(parent_folder, category), exist_ok=True)"
   ]
  },
  {
   "cell_type": "code",
   "execution_count": 11,
   "id": "f64ea4d4",
   "metadata": {},
   "outputs": [
    {
     "name": "stdout",
     "output_type": "stream",
     "text": [
      "Saved 5572 messages into 'test_file' folder with subfolders for each category!\n"
     ]
    }
   ],
   "source": [
    "# 4. Save each message as a .txt in the correct subfolder\n",
    "for i, row in enumerate(df.itertuples(), start=1):\n",
    "    category = row.Category\n",
    "    message = row.Message\n",
    "    file_path = os.path.join(parent_folder, category, f\"{category}_{i}.txt\")\n",
    "    with open(file_path, \"w\", encoding=\"utf-8\") as f:\n",
    "        f.write(str(message))\n",
    "\n",
    "print(f\"Saved {len(df)} messages into '{parent_folder}' folder with subfolders for each category!\")"
   ]
  },
  {
   "cell_type": "code",
   "execution_count": null,
   "id": "ea0ace25",
   "metadata": {},
   "outputs": [],
   "source": []
  }
 ],
 "metadata": {
  "kernelspec": {
   "display_name": "ML",
   "language": "python",
   "name": "python3"
  },
  "language_info": {
   "codemirror_mode": {
    "name": "ipython",
    "version": 3
   },
   "file_extension": ".py",
   "mimetype": "text/x-python",
   "name": "python",
   "nbconvert_exporter": "python",
   "pygments_lexer": "ipython3",
   "version": "3.10.18"
  }
 },
 "nbformat": 4,
 "nbformat_minor": 5
}
